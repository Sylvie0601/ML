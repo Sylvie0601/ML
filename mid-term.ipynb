{
 "cells": [
  {
   "attachments": {},
   "cell_type": "markdown",
   "metadata": {},
   "source": [
    "先載入需要的模組－pandas、numpy、matplotlib.pyplot、seaborn、plotly.express"
   ]
  },
  {
   "cell_type": "code",
   "execution_count": 1,
   "metadata": {},
   "outputs": [],
   "source": [
    "import pandas as pd\n",
    "import numpy as np\n",
    "import matplotlib.pyplot as plt\n",
    "import seaborn as sns\n",
    "import plotly.express as px"
   ]
  },
  {
   "attachments": {},
   "cell_type": "markdown",
   "metadata": {
    "tags": []
   },
   "source": [
    "1.讀取holidays_event的資料，並了解holidays_event的內容\n",
    "\n",
    "2.用seaborn畫date、type、descripyion的資料分布\n",
    "\n",
    "3.利用groupby了解locale_name、type、locale和transferred之間是否有關連性\n",
    "\n",
    "4.統計locale_name、type、locale資料內的數據\n",
    "\n",
    "5.確認holidays_events是否有缺失值，確認發現holidays_events並沒有缺失值，先繼續讀取其他數據"
   ]
  },
  {
   "cell_type": "code",
   "execution_count": null,
   "metadata": {},
   "outputs": [],
   "source": [
    "#1.\n",
    "holidays_events = pd.read_csv(\"data/holidays_events.csv\")\n",
    "holidays_events.head()\n",
    "holidays_events.info()\n",
    "holidays_events.describe().T"
   ]
  },
  {
   "cell_type": "code",
   "execution_count": null,
   "metadata": {},
   "outputs": [],
   "source": [
    "#2.\n",
    "sns.displot(holidays_events['date'])\n",
    "sns.displot(holidays_events['type'])\n",
    "sns.displot(holidays_events['description'])"
   ]
  },
  {
   "cell_type": "code",
   "execution_count": null,
   "metadata": {},
   "outputs": [],
   "source": [
    "#3.\n",
    "holidays_events.groupby('locale_name').mean()\n",
    "holidays_events.groupby('type').mean()\n",
    "holidays_events.groupby('locale').mean()"
   ]
  },
  {
   "cell_type": "code",
   "execution_count": null,
   "metadata": {},
   "outputs": [],
   "source": [
    "#4.\n",
    "holidays_events['locale_name'].value_counts()\n",
    "holidays_events['type'].value_counts()\n",
    "holidays_events['locale'].value_counts()"
   ]
  },
  {
   "cell_type": "code",
   "execution_count": null,
   "metadata": {},
   "outputs": [],
   "source": [
    "#5.\n",
    "holidays_events.isnull().sum()"
   ]
  },
  {
   "attachments": {},
   "cell_type": "markdown",
   "metadata": {},
   "source": [
    "1.讀取oil的數據，分析並觀察它的資料型態跟資料內容\n",
    "\n",
    "2.用seaborn畫dcoilwtico的圖，了解dcoilwtico的數值分布\n",
    "\n",
    "3.確認是否有缺失值－發現到dcoilwtico有缺失值43個，想試著用fillna的ffill去填補數值，但發現填補失敗，info()中還是發現dcoilwtico的遺漏值有43個，試過刪掉遺漏值但也失敗，先行將其放著並讀取其他資料\n",
    "\n",
    "4.引用網路上同個比賽的\"BOWLOFRUITS\"發表的code上畫的圖，plotly.express可以讓游標放在圖上任意點都可以看到數值，藉此我們可知再任意時間點的油價"
   ]
  },
  {
   "cell_type": "code",
   "execution_count": null,
   "metadata": {},
   "outputs": [],
   "source": [
    "#1.\n",
    "oil = pd.read_csv(\"data/oil.csv\")\n",
    "oil.head()\n",
    "oil.info()\n",
    "oil.describe().T"
   ]
  },
  {
   "cell_type": "code",
   "execution_count": null,
   "metadata": {},
   "outputs": [],
   "source": [
    "#2.\n",
    "sns.displot(oil['dcoilwtico'])"
   ]
  },
  {
   "cell_type": "code",
   "execution_count": null,
   "metadata": {},
   "outputs": [],
   "source": [
    "#3.\n",
    "oil.isnull().sum()\n",
    "oil.fillna(method='ffill')\n",
    "oil.info()"
   ]
  },
  {
   "cell_type": "code",
   "execution_count": null,
   "metadata": {},
   "outputs": [],
   "source": [
    "#4.\n",
    "fig = px.scatter(oil, x = oil.index, y ='dcoilwtico', title='Oil price change over the year')\n",
    "fig.update_xaxes(rangeslider_visible = False,)"
   ]
  },
  {
   "attachments": {},
   "cell_type": "markdown",
   "metadata": {},
   "source": [
    "1.讀取stores的數據，分析並觀察它的資料型態跟資料內容\n",
    "\n",
    "2.用seaborn畫city、state、cluster、type的圖，了解他們的數值資料分布\n",
    "\n",
    "3.利用groupby了解city、state和store_nbr、cluster之間是否有關連性\n",
    "\n",
    "4.統計city、state、type資料內的數據\n",
    "\n",
    "5.確認是否有缺失值－沒有，讀取下一個資料"
   ]
  },
  {
   "cell_type": "code",
   "execution_count": null,
   "metadata": {},
   "outputs": [],
   "source": [
    "#1.\n",
    "stores = pd.read_csv(\"data/stores.csv\")\n",
    "stores.head()\n",
    "stores.info()"
   ]
  },
  {
   "cell_type": "code",
   "execution_count": null,
   "metadata": {},
   "outputs": [],
   "source": [
    "#2.\n",
    "sns.displot(stores['city'])\n",
    "sns.displot(stores['state'])\n",
    "sns.displot(stores['cluster'])\n",
    "sns.displot(stores['type'])"
   ]
  },
  {
   "cell_type": "code",
   "execution_count": null,
   "metadata": {},
   "outputs": [],
   "source": [
    "#3.\n",
    "stores.groupby('city').mean()\n",
    "stores.groupby('state').mean()"
   ]
  },
  {
   "cell_type": "code",
   "execution_count": null,
   "metadata": {},
   "outputs": [],
   "source": [
    "#4.\n",
    "stores['city'].value_counts()\n",
    "stores['state'].value_counts()\n",
    "stores['type'].value_counts()"
   ]
  },
  {
   "cell_type": "code",
   "execution_count": null,
   "metadata": {},
   "outputs": [],
   "source": [
    "#5.\n",
    "stores.isnull().sum()"
   ]
  },
  {
   "attachments": {},
   "cell_type": "markdown",
   "metadata": {},
   "source": [
    "1.讀取train的資料，並了解資料內容\n",
    "\n",
    "2.用seaborn畫onpromotion的資料分布，並比較store_nbr、onpromotion之間的關聯\n",
    "\n",
    "3,確認train是否有缺失值，確認發現train並沒有缺失值，先繼續讀取其他數據\n",
    "\n",
    "4.利用groupby了解family和id、store_nbr、sales、onpromotion之間是否有關連性，接著將family的資料畫成bar形式的統計圖，了解family每一個資料的數值多寡分布\n"
   ]
  },
  {
   "cell_type": "code",
   "execution_count": null,
   "metadata": {},
   "outputs": [],
   "source": [
    "#1.\n",
    "train = pd.read_csv(\"data/train.csv\")\n",
    "train.head()\n",
    "train.info()\n",
    "train.describe().T"
   ]
  },
  {
   "cell_type": "code",
   "execution_count": null,
   "metadata": {},
   "outputs": [],
   "source": [
    "#2.\n",
    "sns.displot(train['onpromotion'])\n",
    "sns.pairplot(train[['store_nbr','onpromotion']],dropna=True)"
   ]
  },
  {
   "cell_type": "code",
   "execution_count": null,
   "metadata": {},
   "outputs": [],
   "source": [
    "#3.\n",
    "train.isnull().sum()"
   ]
  },
  {
   "cell_type": "code",
   "execution_count": null,
   "metadata": {},
   "outputs": [],
   "source": [
    "#4.\n",
    "train.groupby('family').mean()\n",
    "train.groupby(['family']).sales.median().plot(kind='bar')"
   ]
  },
  {
   "attachments": {},
   "cell_type": "markdown",
   "metadata": {},
   "source": [
    "1.讀取transactions的資料，並了解資料內容\n",
    "\n",
    "2.用seaborn畫store_nbr、transactions的資料分布，並比較store_nbr、transactions之間的關聯\n",
    "\n",
    "3,確認transactions是否有缺失值，確認發現transactions並沒有缺失值，先繼續讀取其他數據\n",
    "\n",
    "4.利用groupby了解store_nbr和transactions之間是否有關連性"
   ]
  },
  {
   "cell_type": "code",
   "execution_count": 2,
   "metadata": {},
   "outputs": [],
   "source": [
    "#1.\n",
    "transactions = pd.read_csv(\"data/transactions.csv\")\n",
    "transactions.head()\n",
    "transactions.info()\n",
    "transactions.describe().T"
   ]
  },
  {
   "cell_type": "code",
   "execution_count": 3,
   "metadata": {},
   "outputs": [],
   "source": [
    "#2.\n",
    "sns.displot(transactions['store_nbr'])\n",
    "sns.displot(transactions['transactions'])\n",
    "sns.pairplot(transactions[['store_nbr','transactions']],dropna=True)"
   ]
  },
  {
   "cell_type": "code",
   "execution_count": null,
   "metadata": {},
   "outputs": [],
   "source": [
    "#3.\n",
    "transactions.isnull().mean()"
   ]
  },
  {
   "cell_type": "code",
   "execution_count": null,
   "metadata": {},
   "outputs": [],
   "source": [
    "#4.\n",
    "transactions.groupby('store_nbr').mean()"
   ]
  },
  {
   "attachments": {},
   "cell_type": "markdown",
   "metadata": {},
   "source": [
    "接下來進行資料的整合\n",
    "1.將train的資料和stores的資料整合變成新檔－new_train\n",
    "\n",
    "2.參考同比賽當中的\"BOWLOFRUITS\"發表的code\n",
    "將holidays_event當中的local、Regional、National的欄位和new_train整合，但整合多了locale_x，locale_name_x，description_x，locale_y，locale_name_y，description_y，刪掉這些並也將我認為不重要的locale刪掉\n",
    "\n",
    "3.將new_train的資料和oil的資料整合\n",
    "\n",
    "4.將new_train的資料和transactions的資料整合，且使用apply函數lamda將transactions的值作為功能輸入函數，並讓它可以獨立在其他位置使用\n",
    "\n",
    "5.因為new_train當中的date資料型態是object，所以想利用pd.to_datetime將其型態轉變"
   ]
  },
  {
   "cell_type": "code",
   "execution_count": null,
   "metadata": {},
   "outputs": [],
   "source": [
    "#1.\n",
    "new_train = train.merge(stores, on=\"store_nbr\", how=\"left\")\n",
    "new_train.head()"
   ]
  },
  {
   "cell_type": "code",
   "execution_count": null,
   "metadata": {},
   "outputs": [],
   "source": [
    "#2.\n",
    "holidays_events.rename(columns={\"type\": \"holiday\"}, inplace=True)\n",
    "Local = holidays_events[holidays_events.locale == \"Local\"]\n",
    "Regional = holidays_events[holidays_events.locale == \"Regional\"]\n",
    "National = holidays_events[holidays_events.locale == \"National\"]\n",
    "new_train = new_train.merge(National, on='date', how='left')\n",
    "new_train = new_train.merge(Regional,left_on=['date','state'], right_on=['date','locale_name'], how='left')\n",
    "new_train = new_train.merge(Local, left_on=['date','city'], right_on=['date','locale_name'], how='left')\n",
    "new_train.drop(columns=[\"locale_x\", \"locale_name_x\", \"description_x\", \"locale_y\", \"locale_name_y\", \"description_y\", \"locale\", \"locale_name\", \"description\"], inplace=True)\n",
    "new_train.head()"
   ]
  },
  {
   "cell_type": "code",
   "execution_count": null,
   "metadata": {},
   "outputs": [],
   "source": [
    "#3.\n",
    "new_train = new_train.merge(oil, on='date', how='left')\n",
    "new_train.head()"
   ]
  },
  {
   "cell_type": "code",
   "execution_count": null,
   "metadata": {},
   "outputs": [],
   "source": [
    "#4.\n",
    "new_train = new_train.merge(transactions, on=['date','store_nbr'], how='left')\n",
    "new_train[\"transactions\"] = new_train.apply(lambda x: 0 if pd.isna(x.transactions) else x.transactions, axis=1)\n",
    "new_train.head()"
   ]
  },
  {
   "cell_type": "code",
   "execution_count": null,
   "metadata": {},
   "outputs": [],
   "source": [
    "#5.\n",
    "new_train['date'] = pd.to_datetime(new_train['date'])\n",
    "new_train = new_train.set_index('date')\n",
    "new_train.head()"
   ]
  },
  {
   "attachments": {},
   "cell_type": "markdown",
   "metadata": {},
   "source": [
    "引用網路上同個比賽的\"BOWLOFRUITS\"發表的code"
   ]
  },
  {
   "cell_type": "code",
   "execution_count": null,
   "metadata": {},
   "outputs": [],
   "source": [
    "def plot_periodogram(ts):\n",
    "    fs = pd.Timedelta(\"1Y\") / pd.Timedelta(\"1D\")\n",
    "    \n",
    "    from scipy.signal import periodogram\n",
    "    frequencies, spectrum = periodogram(ts, fs=fs, detrend=\"linear\", window=\"boxcar\", scaling=\"spectrum\")\n",
    "    \n",
    "    _, ax = plt.subplots()\n",
    "    ax.step(frequencies, spectrum)\n",
    "    ax.set_xscale(\"log\")\n",
    "    ax.set_xticks([1, 2, 4, 6, 12, 26, 52, 104])\n",
    "    ax.set_xticklabels([\"Annual (1)\", \"Semiannual (2)\", \"Quarterly(4)\", \"Bimonthly (6)\", \"Monthly (12)\", \"Biweekly (26)\", \"Weekly (52)\", \"Semiweekly (104)\"], rotation=30)\n",
    "    ax.ticklabel_format(axis=\"y\", style=\"sci\", scilimits=(0, 0))\n",
    "    ax.set_ylabel(\"Variance\")\n",
    "    ax.set_title(\"Periodogram\")\n",
    "     \n",
    "    return ax\n",
    "\n",
    "avg_sales = train.set_index(\"date\").groupby(\"date\").sales.mean()\n",
    "plot_periodogram(avg_sales)"
   ]
  }
 ],
 "metadata": {
  "kernelspec": {
   "display_name": "Python 3",
   "language": "python",
   "name": "python3"
  },
  "language_info": {
   "codemirror_mode": {
    "name": "ipython",
    "version": 3
   },
   "file_extension": ".py",
   "mimetype": "text/x-python",
   "name": "python",
   "nbconvert_exporter": "python",
   "pygments_lexer": "ipython3",
   "version": "3.9.13"
  },
  "orig_nbformat": 4
 },
 "nbformat": 4,
 "nbformat_minor": 2
}
